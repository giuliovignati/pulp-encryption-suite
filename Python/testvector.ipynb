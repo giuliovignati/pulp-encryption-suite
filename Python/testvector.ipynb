{
 "cells": [
  {
   "cell_type": "markdown",
   "id": "777f3a16-14c1-4df9-9620-e296802e8bbb",
   "metadata": {},
   "source": [
    "## C20P1305 Test Vector Check"
   ]
  },
  {
   "cell_type": "markdown",
   "id": "5e095d20-6133-4991-b802-4e82b097df1b",
   "metadata": {},
   "source": [
    "### c20p1305 test"
   ]
  },
  {
   "cell_type": "code",
   "execution_count": 1,
   "id": "4461c572-5451-47b7-9aa3-0f92615b13c1",
   "metadata": {},
   "outputs": [],
   "source": [
    "plaintext = b'\\x4c\\x61\\x64\\x69\\x65\\x73\\x20\\x61\\x6e\\x64\\x20\\x47\\x65\\x6e\\x74\\x6c\\x65\\x6d\\x65\\x6e\\x20\\x6f\\x66\\x20\\x74\\x68\\x65\\x20\\x63\\x6c\\x61\\x73\\x73\\x20\\x6f\\x66\\x20\\x27\\x39\\x39\\x3a\\x20\\x49\\x66\\x20\\x49\\x20\\x63\\x6f\\x75\\x6c\\x64\\x20\\x6f\\x66\\x66\\x65\\x72\\x20\\x79\\x6f\\x75\\x20\\x6f\\x6e\\x6c\\x79\\x20\\x6f\\x6e\\x65\\x20\\x74\\x69\\x70\\x20\\x66\\x6f\\x72\\x20\\x74\\x68\\x65\\x20\\x66\\x75\\x74\\x75\\x72\\x65\\x2c\\x20\\x73\\x75\\x6e\\x73\\x63\\x72\\x65\\x65\\x6e\\x20\\x77\\x6f\\x75\\x6c\\x64\\x20\\x62\\x65\\x20\\x69\\x74\\x2e'\n",
    "\n",
    "key = b'\\x80\\x81\\x82\\x83\\x84\\x85\\x86\\x87\\x88\\x89\\x8a\\x8b\\x8c\\x8d\\x8e\\x8f\\x90\\x91\\x92\\x93\\x94\\x95\\x96\\x97\\x98\\x99\\x9a\\x9b\\x9c\\x9d\\x9e\\x9f'\n",
    "\n",
    "nonce = b'\\x07\\x00\\x00\\x00\\x40\\x41\\x42\\x43\\x44\\x45\\x46\\x47'\n",
    "\n",
    "aad = b'\\x50\\x51\\x52\\x53\\xc0\\xc1\\xc2\\xc3\\xc4\\xc5\\xc6\\xc7'\n",
    "\n",
    "exp_ciphertext = b'\\xd3\\x1a\\x8d\\x34\\x64\\x8e\\x60\\xdb\\x7b\\x86\\xaf\\xbc\\x53\\xef\\x7e\\xc2\\xa4\\xad\\xed\\x51\\x29\\x6e\\x08\\xfe\\xa9\\xe2\\xb5\\xa7\\x36\\xee\\x62\\xd6\\x3d\\xbe\\xa4\\x5e\\x8c\\xa9\\x67\\x12\\x82\\xfa\\xfb\\x69\\xda\\x92\\x72\\x8b\\x1a\\x71\\xde\\x0a\\x9e\\x06\\x0b\\x29\\x05\\xd6\\xa5\\xb6\\x7e\\xcd\\x3b\\x36\\x92\\xdd\\xbd\\x7f\\x2d\\x77\\x8b\\x8c\\x98\\x03\\xae\\xe3\\x28\\x09\\x1b\\x58\\xfa\\xb3\\x24\\xe4\\xfa\\xd6\\x75\\x94\\x55\\x85\\x80\\x8b\\x48\\x31\\xd7\\xbc\\x3f\\xf4\\xde\\xf0\\x8e\\x4b\\x7a\\x9d\\xe5\\x76\\xd2\\x65\\x86\\xce\\xc6\\x4b\\x61\\x16'\n",
    "\n",
    "exp_mac = b'\\x1a\\xe1\\x0b\\x59\\x4f\\x09\\xe2\\x6a\\x7e\\x90\\x2e\\xcb\\xd0\\x60\\x06\\x91'\n",
    "\n",
    "exp_poly_key = b'\\x7b\\xac\\x2b\\x25\\x2d\\xb4\\x47\\xaf\\x09\\xb6\\x7a\\x55\\xa4\\xe9\\x55\\x84\\x0a\\xe1\\xd6\\x73\\x10\\x75\\xd9\\xeb\\x2a\\x93\\x75\\x78\\x3e\\xd5\\x53\\xff'\n"
   ]
  },
  {
   "cell_type": "code",
   "execution_count": 2,
   "id": "6bfb7989-ff8f-4e7f-9d09-6804049db382",
   "metadata": {},
   "outputs": [
    {
     "name": "stdout",
     "output_type": "stream",
     "text": [
      "Computed ciphertext matches expected ciphertext.\n",
      "Computed digest matches expected MAC.\n"
     ]
    }
   ],
   "source": [
    "from chacha20poly1305 import ChaCha20Poly1305\n",
    "\n",
    "cip = ChaCha20Poly1305(key)\n",
    "ciphertext = cip.encrypt(nonce, plaintext, aad)\n",
    "\n",
    "# Compare computed ciphertext with expected ciphertext\n",
    "if ciphertext[:-16] == exp_ciphertext:\n",
    "    print(\"Computed ciphertext matches expected ciphertext.\")\n",
    "else:\n",
    "    print(\"Computed ciphertext does not match expected ciphertext.\")\n",
    "\n",
    "# Compare computed digest with expected digest\n",
    "if exp_mac == ciphertext[-16:]:\n",
    "    print(\"Computed digest matches expected MAC.\")\n",
    "else:\n",
    "    print(\"Computed digest does not match expected MAC.\")"
   ]
  },
  {
   "cell_type": "markdown",
   "id": "df6e7d3b-ee9c-4b46-a00d-92a350c7b994",
   "metadata": {},
   "source": [
    "## Generating random test vectors for c20p1305 (and chacha20)\n",
    "The values are saved in 6 files of 512b, 1K, 2K, 4K, 8K, 16K, then used for the check in the GVSoC implementation\n",
    "Is observed that, except for the last 16 bytes, the test vector is suitable to test chacha20"
   ]
  },
  {
   "cell_type": "code",
   "execution_count": 3,
   "id": "67fe42a5-d773-4e7f-a8f3-a11e774d4f99",
   "metadata": {},
   "outputs": [],
   "source": [
    "import os\n",
    "\n",
    "# Define sizes\n",
    "sizes = [512, 1024, 2048, 4096, 8192, 16384, 32768]\n",
    "\n",
    "# Initialize ChaCha20Poly1305 cipher\n",
    "cip = ChaCha20Poly1305(key)\n",
    "\n",
    "# Iterate over sizes\n",
    "for size in sizes:\n",
    "    # Generate random plaintext\n",
    "    plaintext = os.urandom(size)\n",
    "\n",
    "    # Encrypt plaintext\n",
    "    ciphertext = cip.encrypt(nonce, plaintext, aad)\n",
    "\n",
    "    # Write plaintext and ciphertext as uint8_t arrays to a text file\n",
    "    with open(f'testvectorC20P1305{int(size/1024)}K.txt', 'w') as file:\n",
    "        file.write(\"const uint8_t plaintext[] = {\")\n",
    "        for byte in plaintext:\n",
    "            file.write(f\"0x{byte:02x}, \")\n",
    "        file.write(\"};\\n\")\n",
    "\n",
    "        file.write(\"const uint8_t ciphertext[] = {\")\n",
    "        for byte in ciphertext:\n",
    "            file.write(f\"0x{byte:02x}, \")\n",
    "        file.write(\"};\\n\")"
   ]
  },
  {
   "cell_type": "markdown",
   "id": "124925cb-a95f-477d-ac99-b99dae29f753",
   "metadata": {},
   "source": [
    "## AES256gcm Test Vector Check"
   ]
  },
  {
   "cell_type": "code",
   "execution_count": 4,
   "id": "362abd1f-255a-492d-9429-ef3a5b8ecebc",
   "metadata": {},
   "outputs": [],
   "source": [
    "key = (\n",
    "    b'\\xE3\\xC0\\x8A\\x8F\\x06\\xC6\\xE3\\xAD\\x95\\xA7\\x05\\x57\\xB2\\x3F\\x75\\x48'\n",
    "    b'\\x3C\\xE3\\x30\\x21\\xA9\\xC7\\x2B\\x70\\x25\\x66\\x62\\x04\\xC6\\x9C\\x0B\\x72'\n",
    ")\n",
    "\n",
    "plaintext = (\n",
    "    b'\\x08\\x00\\x0F\\x10\\x11\\x12\\x13\\x14\\x15\\x16\\x17\\x18\\x19\\x1A\\x1B\\x1C'\n",
    "    b'\\x1D\\x1E\\x1F\\x20\\x21\\x22\\x23\\x24\\x25\\x26\\x27\\x28\\x29\\x2A\\x2B\\x2C'\n",
    "    b'\\x2D\\x2E\\x2F\\x30\\x31\\x32\\x33\\x34\\x35\\x36\\x37\\x38\\x39\\x3A\\x00\\x02'\n",
    ")\n",
    "\n",
    "aad = (\n",
    "    b'\\xD6\\x09\\xB1\\xF0\\x56\\x63\\x7A\\x0D\\x46\\xDF\\x99\\x8D\\x88\\xE5\\x2E\\x00'\n",
    "    b'\\xB2\\xC2\\x84\\x65\\x12\\x15\\x35\\x24\\xC0\\x89\\x5E\\x81'\n",
    ")\n",
    "\n",
    "nonce = b'\\x12\\x15\\x35\\x24\\xC0\\x89\\x5E\\x81\\xB2\\xC2\\x84\\x65'\n",
    "\n",
    "exp_ciphertext = (\n",
    "    b'\\xE2\\x00\\x6E\\xB4\\x2F\\x52\\x77\\x02\\x2D\\x9B\\x19\\x92\\x5B\\xC4\\x19\\xD7'\n",
    "    b'\\xA5\\x92\\x66\\x6C\\x92\\x5F\\xE2\\xEF\\x71\\x8E\\xB4\\xE3\\x08\\xEF\\xEA\\xA7'\n",
    "    b'\\xC5\\x27\\x3B\\x39\\x41\\x18\\x86\\x0A\\x5B\\xE2\\xA9\\x7F\\x56\\xAB\\x78\\x36'\n",
    ")\n",
    "\n",
    "exp_tag = (\n",
    "    b'\\x5C\\xA5\\x97\\xCD\\xBB\\x3E\\xDB\\x8D\\x1A\\x11\\x51\\xEA\\x0A\\xF7\\xB4\\x36'\n",
    ")\n"
   ]
  },
  {
   "cell_type": "code",
   "execution_count": 5,
   "id": "431536f8-1491-40a0-a117-9d430a01a7c5",
   "metadata": {},
   "outputs": [
    {
     "name": "stdout",
     "output_type": "stream",
     "text": [
      "Computed ciphertext matches expected ciphertext.\n",
      "Computed digest matches expected one\n"
     ]
    }
   ],
   "source": [
    "from Crypto.Cipher import AES\n",
    "\n",
    "cipher = AES.new(key, AES.MODE_GCM, nonce=nonce)\n",
    "\n",
    "cipher.update(aad)\n",
    "\n",
    "ciphertext, tag = cipher.encrypt_and_digest(plaintext)\n",
    "\n",
    "# Compare computed ciphertext with expected ciphertext\n",
    "if ciphertext == exp_ciphertext:\n",
    "    print(\"Computed ciphertext matches expected ciphertext.\")\n",
    "else:\n",
    "    print(\"Computed ciphertext does not match expected ciphertext.\")\n",
    "\n",
    "# Compare computed digest with expected digest\n",
    "if exp_tag == tag:\n",
    "    print(\"Computed digest matches expected one\")\n",
    "else:\n",
    "    print(\"Computed digest does not match expected one\")"
   ]
  },
  {
   "cell_type": "markdown",
   "id": "cf50df89-8a22-46aa-bece-96003cdd8104",
   "metadata": {},
   "source": [
    "## Generating random test vectors for AES256gcm (and ctr)\n",
    "The values are saved in 6 files of 512b, 1K, 2K, 4K, 8K, 16K, then used for the check in the GVSoC implementation\n",
    "Is observed that, except for the tag, the test vector is suitable to test ct"
   ]
  },
  {
   "cell_type": "code",
   "execution_count": 7,
   "id": "72835674-2b2b-49e0-a606-23a447808be0",
   "metadata": {},
   "outputs": [],
   "source": [
    "# Define sizes\n",
    "sizes = [512, 1024, 2048, 4096, 8192, 16384, 32768]\n",
    "\n",
    "# Iterate over sizes\n",
    "for size in sizes:\n",
    "\n",
    "    cipher = AES.new(key, AES.MODE_GCM, nonce=nonce)\n",
    "\n",
    "    cipher.update(aad)\n",
    "    \n",
    "    # Generate random plaintext\n",
    "    plaintext = os.urandom(size)\n",
    "\n",
    "    # Encrypt plaintext\n",
    "    ciphertext, tag = cipher.encrypt_and_digest(plaintext)\n",
    "\n",
    "    # Concatenate ciphertext and tag\n",
    "    ciphertext_and_tag = ciphertext + tag\n",
    "\n",
    "    # Write plaintext and ciphertext as uint8_t arrays to a text file\n",
    "    with open(f'testvectorAES256GCM{int(size/1024)}K.txt', 'w') as file:\n",
    "        file.write(\"const uint8_t plaintext[] = {\")\n",
    "        for byte in plaintext:\n",
    "            file.write(f\"0x{byte:02x}, \")\n",
    "        file.write(\"};\\n\")\n",
    "\n",
    "        file.write(\"const uint8_t ciphertext[] = {\")\n",
    "        for byte in ciphertext_and_tag:\n",
    "            file.write(f\"0x{byte:02x}, \")\n",
    "        file.write(\"};\\n\")"
   ]
  },
  {
   "cell_type": "code",
   "execution_count": null,
   "id": "8c70cf39-ff02-42bf-bd57-45605b31c46d",
   "metadata": {},
   "outputs": [],
   "source": []
  }
 ],
 "metadata": {
  "kernelspec": {
   "display_name": "Python 3 (ipykernel)",
   "language": "python",
   "name": "python3"
  },
  "language_info": {
   "codemirror_mode": {
    "name": "ipython",
    "version": 3
   },
   "file_extension": ".py",
   "mimetype": "text/x-python",
   "name": "python",
   "nbconvert_exporter": "python",
   "pygments_lexer": "ipython3",
   "version": "3.8.10"
  }
 },
 "nbformat": 4,
 "nbformat_minor": 5
}
